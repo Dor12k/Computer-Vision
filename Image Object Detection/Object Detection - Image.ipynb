{
 "cells": [
  {
   "cell_type": "markdown",
   "id": "07992e6d",
   "metadata": {},
   "source": [
    "# Object Detection - Image \n",
    "\n",
    "\n"
   ]
  },
  {
   "cell_type": "markdown",
   "id": "7d09a1b6",
   "metadata": {},
   "source": [
    "### Import our libraries and building useful functions for object detection"
   ]
  },
  {
   "cell_type": "code",
   "execution_count": 19,
   "id": "1fd53345",
   "metadata": {},
   "outputs": [],
   "source": [
    "import os\n",
    "import cv2\n",
    "import numpy as np\n",
    "import cvlib as cv\n",
    "import matplotlib.pyplot as plt\n",
    "from cvlib.object_detection import draw_bbox"
   ]
  },
  {
   "cell_type": "code",
   "execution_count": 10,
   "id": "eefb56f4",
   "metadata": {},
   "outputs": [],
   "source": [
    "# This function remove the components that are smaller than praticular threshold\n",
    "\n",
    "def keepLargeComponents(image, treshold):\n",
    "    \n",
    "    frame = np.zeros(image.shape) < 0 # boolean array\n",
    "    unique_labels = np.unique(image.flatten()) # find out every unique value that is actually a label \n",
    "    \n",
    "    for label in unique_labels:\n",
    "        if label == 0: # background\n",
    "            pass\n",
    "        else:\n",
    "            img = (image == label) # save the component\n",
    "            if treshold < np.sum(img):\n",
    "                frame = frame | img # save all the components\n",
    "                \n",
    "    return np.float32(255*frame)"
   ]
  },
  {
   "cell_type": "code",
   "execution_count": 11,
   "id": "ab70d51a",
   "metadata": {},
   "outputs": [],
   "source": [
    "# This function save sequence on the disk\n",
    "\n",
    "def saveSequence(caputre, frame_counter, frameSequence, outPutPath):\n",
    "    \n",
    "    treshold = frameSequence\n",
    "    \n",
    "    if len(caputre) < treshold:\n",
    "        pass\n",
    "    else:\n",
    "        counter = 1\n",
    "        for frame in caputre:\n",
    "            image_name = str(frame_counter)+'_'+ str(counter)+'.jpg'\n",
    "            finalPath = os.path.join(outPutPath, image_name)\n",
    "            bbox, labels, conf = cv.detect_common_objects(frame)\n",
    "            frame = draw_bbox(frame, bbox, labels, conf)\n",
    "            cv2.imwrite(finalPath, frame)\n",
    "            \n",
    "            counter += 1"
   ]
  },
  {
   "cell_type": "markdown",
   "id": "6b5777d8",
   "metadata": {},
   "source": [
    "### Build a path to load and save our data"
   ]
  },
  {
   "cell_type": "code",
   "execution_count": 12,
   "id": "315ef8c8",
   "metadata": {},
   "outputs": [],
   "source": [
    "# This path is for loading images to detection\n",
    "#images_path = (r'C:\\Users') # add file(iamges) location \n",
    "\n",
    "# This path is loaction for the saved images \n",
    "# outPutPath = (r'C:\\Users') # add folder location to save "
   ]
  },
  {
   "cell_type": "code",
   "execution_count": 10,
   "id": "91e3743a",
   "metadata": {},
   "outputs": [],
   "source": [
    "# This path is for loading images to detection\n",
    "images_path = (r'C:\\Users\\Admin\\Downloads\\Udemy\\UdemyCv\\Data\\GroundtruthSeq\\RawImages')\n",
    "\n",
    "# This path is loaction for the saved images \n",
    "outPutPath = (r'C:\\Users\\Admin\\Downloads\\Udemy\\UdemyCv\\Data\\smart')"
   ]
  },
  {
   "cell_type": "markdown",
   "id": "6ed6e83e",
   "metadata": {},
   "source": [
    "## Object detection function"
   ]
  },
  {
   "cell_type": "code",
   "execution_count": null,
   "id": "8c8ffdb9",
   "metadata": {},
   "outputs": [],
   "source": [
    "foregroundModel = cv2.createBackgroundSubtractorMOG2()\n",
    "\n",
    "# save sequence of 5 frames\n",
    "frameSequence = 5\n",
    "frame_counter = 0\n",
    "capture = []\n",
    "index = []\n",
    "\n",
    "for image_name in os.listdir(images_path):\n",
    "    \n",
    "    frame_counter += 1 # tell us in wich frame we are right now\n",
    "    frame = cv2.imread(os.path.join(images_path, image_name))\n",
    "    frame = cv2.resize(frame, dsize=(600, 400))\n",
    "    \n",
    "    foreground_mask = foregroundModel.apply(frame)\n",
    "    \n",
    "    # Create a matrix of frame and foreground mask\n",
    "    frame_mask = np.zeros(frame.shape, np.uint8)\n",
    "    frame_mask[:,:,0] = foreground_mask\n",
    "    frame_mask[:,:,1] = foreground_mask\n",
    "    frame_mask[:,:,2] = foreground_mask\n",
    "    foreground_frame = np.hstack((frame, frame_mask))\n",
    "    \n",
    "    # Reduce noises\n",
    "    structuring_element = cv2.getStructuringElement(cv2.MORPH_RECT,(3,3))\n",
    "    foreground_mask = cv2.morphologyEx(np.float32(foreground_mask), cv2.MORPH_OPEN, structuring_element)\n",
    "    \n",
    "    # Find out connected components and keep only the large components\n",
    "    num_labels, image_labels = cv2.connectedComponents(np.array(0<foreground_mask, np.uint8))\n",
    "    foreground_mask = keepLargeComponents(image_labels, treshold=1000) # return components larger than threshold\n",
    "    \n",
    "    # If it's not a background..\n",
    "    if 0 < np.sum(foreground_mask):\n",
    "        index.append(frame_counter) # in wich frame the change is apears \n",
    "        capture.append(frame)    # adding the last frame \n",
    "        \n",
    "    # If there are more then 2 frames and the change happens in consecutive frames..\n",
    "    if 2 <= len(index) and index[-2]+1 < index[-1]:\n",
    "        saveSequence(capture, frame_counter, frameSequence, outPutPath)\n",
    "        capture = []\n",
    "        index = []\n",
    "        \n",
    "    # Plot frame\n",
    "    cv2.imshow('frame', foreground_frame)\n",
    "    \n",
    "    # Key to stop the video\n",
    "    key = cv2.waitKey(5) & 0xff\n",
    "    if key == 27:\n",
    "        break\n",
    "        \n",
    "saveSequence(capture, frame_counter, frameSequence, outPutPath)\n",
    "cv2.destroyAllWindows()"
   ]
  },
  {
   "cell_type": "markdown",
   "id": "d7bb2de1",
   "metadata": {},
   "source": [
    "## Show Image Detection"
   ]
  },
  {
   "cell_type": "code",
   "execution_count": 20,
   "id": "a2fc9aa0",
   "metadata": {},
   "outputs": [],
   "source": [
    "# This function load images from folder and show image detection\n",
    "\n",
    "def showDetection(outPutPath):\n",
    "    \n",
    "    for image_name in os.listdir(outPutPath):\n",
    "        frame = cv2.imread(os.path.join(outPutPath, image_name))\n",
    "        frame = cv2.resize(frame, dsize=(600,400))\n",
    "        cv2.imshow('Display', frame)\n",
    "        \n",
    "        key = cv2.waitKey(30) & 0xff\n",
    "        if key == 27:\n",
    "            break\n",
    "            \n",
    "    cv2.destroyAllWindows()"
   ]
  },
  {
   "cell_type": "code",
   "execution_count": null,
   "id": "2a001cfc",
   "metadata": {},
   "outputs": [],
   "source": [
    "showDetection(outPutPath)"
   ]
  }
 ],
 "metadata": {
  "kernelspec": {
   "display_name": "Python 3 (ipykernel)",
   "language": "python",
   "name": "python3"
  },
  "language_info": {
   "codemirror_mode": {
    "name": "ipython",
    "version": 3
   },
   "file_extension": ".py",
   "mimetype": "text/x-python",
   "name": "python",
   "nbconvert_exporter": "python",
   "pygments_lexer": "ipython3",
   "version": "3.9.12"
  }
 },
 "nbformat": 4,
 "nbformat_minor": 5
}
