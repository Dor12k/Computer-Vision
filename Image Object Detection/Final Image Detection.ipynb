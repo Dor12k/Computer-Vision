{
 "cells": [
  {
   "cell_type": "code",
   "execution_count": 1,
   "id": "43551053",
   "metadata": {},
   "outputs": [],
   "source": [
    "import os\n",
    "import cv2\n",
    "import numpy as np\n",
    "import cvlib as cv\n",
    "import matplotlib.pyplot as plt\n",
    "from cvlib.object_detection import draw_bbox"
   ]
  },
  {
   "cell_type": "code",
   "execution_count": 11,
   "id": "59d3f3fb",
   "metadata": {},
   "outputs": [],
   "source": [
    "def f_keepLargeComponents(I,th):\n",
    "    R = np.zeros(I.shape)<0\n",
    "    unique_labels = np.unique(I.flatten())\n",
    "    for label in unique_labels:\n",
    "        if label == 0:\n",
    "            pass\n",
    "        else:\n",
    "            I2 = I==label\n",
    "            if np.sum(I2)>th:\n",
    "                R = R | I2\n",
    "    return np.float32(255*R)"
   ]
  },
  {
   "cell_type": "code",
   "execution_count": 12,
   "id": "748707b0",
   "metadata": {},
   "outputs": [],
   "source": [
    "def f_saveSeq(C,counter,th,outPutPath):\n",
    "    if len(C)<th:\n",
    "        pass\n",
    "    else:\n",
    "        k = 1\n",
    "        for frame in C:\n",
    "            imName = str(counter)+'_'+ str(k)+'.jpg'\n",
    "            finalPath = os.path.join(outPutPath,imName)\n",
    "            bbox,labels,conf = cv.detect_common_objects(frame)\n",
    "            frame = draw_bbox(frame,bbox,labels,conf)\n",
    "            cv2.imwrite(finalPath,frame)\n",
    "            k += 1"
   ]
  },
  {
   "cell_type": "code",
   "execution_count": 13,
   "id": "8499de60",
   "metadata": {},
   "outputs": [],
   "source": [
    "def f_displaySeq(outPutPath):\n",
    "    for imName in os.listdir(outPutPath):\n",
    "        frame = cv2.imread(os.path.join(outPutPath,imName))\n",
    "        frame = cv2.resize(frame,dsize=(600,400))\n",
    "        cv2.imshow('Display',frame)\n",
    "        k = cv2.waitKey(30) & 0xff\n",
    "        if k == 27:\n",
    "            break\n",
    "    cv2.destroyAllWindows()"
   ]
  },
  {
   "cell_type": "code",
   "execution_count": 14,
   "id": "596dec88",
   "metadata": {},
   "outputs": [],
   "source": [
    "imPath = (r'C:\\Users') # add file(video) location "
   ]
  },
  {
   "cell_type": "code",
   "execution_count": null,
   "id": "66270348",
   "metadata": {},
   "outputs": [],
   "source": [
    "fgModel = cv2.createBackgroundSubtractorMOG2()\n",
    "leastNumOfFrames = 5\n",
    "idx = []\n",
    "C = []\n",
    "counter = 0\n",
    "outPutPath = (r'C:\\Users') # add folder location to save \n",
    "for imName in os.listdir(imPath):\n",
    "    counter += 1\n",
    "    frame = cv2.imread(os.path.join(imPath, imName))\n",
    "    frame = cv2.resize(frame, dsize=(600,400))\n",
    "    fgmask = fgModel.apply(frame)\n",
    "    K_r = cv2.getStructuringElement(cv2.MORPH_RECT,(3,3))\n",
    "    fgmask = cv2.morphologyEx(np.float32(fgmask),cv2.MORPH_OPEN,K_r)\n",
    "    num_labels,labels_im = cv2.connectedComponents(np.array(fgmask>0,np.uint8))\n",
    "    fgmask = f_keepLargeComponents(labels_im,1000)\n",
    "    if np.sum(fgmask)>0:\n",
    "        idx.append(counter)\n",
    "        C.append(frame)\n",
    "    if len(idx) >= 2 and idx[-1] > idx[-2]+1:\n",
    "        f_saveSeq(C,counter,leastNumOfFrames,outPutPath)\n",
    "        idx = []\n",
    "        C = []\n",
    "        \n",
    "    F = np.zeros(frame.shape,np.uint8)\n",
    "    F[:,:,0],F[:,:,1],F[:,:,2] = fgmask, fgmask,fgmask\n",
    "    F2 = np.hstack((frame,F))\n",
    "    cv2.imshow('frame',F2)\n",
    "    k = cv2.waitKey(5) & 0xff\n",
    "    if k == 27:\n",
    "        break\n",
    "f_saveSeq(C,counter,leastNumOfFrames,outPutPath)\n",
    "cv2.destroyAllWindows()"
   ]
  },
  {
   "cell_type": "markdown",
   "id": "39db04f4",
   "metadata": {},
   "source": [
    "# Show Detection"
   ]
  },
  {
   "cell_type": "code",
   "execution_count": 2,
   "id": "c9d08c13",
   "metadata": {},
   "outputs": [],
   "source": [
    "imPath = (r'C:\\Users') # add file(video) location "
   ]
  },
  {
   "cell_type": "code",
   "execution_count": 3,
   "id": "cbdaaa81",
   "metadata": {},
   "outputs": [],
   "source": [
    "for imName in os.listdir(imPath):\n",
    "    frame = cv2.imread(os.path.join(imPath,imName))\n",
    "    frame = cv2.resize(frame,dsize=(600,400))\n",
    "    cv2.imshow('Display',frame)\n",
    "    \n",
    "    k = cv2.waitKey(30) & 0xff\n",
    "    if k == 27:\n",
    "        break\n",
    "\n",
    "cv2.destroyAllWindows()"
   ]
  }
 ],
 "metadata": {
  "kernelspec": {
   "display_name": "Python 3 (ipykernel)",
   "language": "python",
   "name": "python3"
  },
  "language_info": {
   "codemirror_mode": {
    "name": "ipython",
    "version": 3
   },
   "file_extension": ".py",
   "mimetype": "text/x-python",
   "name": "python",
   "nbconvert_exporter": "python",
   "pygments_lexer": "ipython3",
   "version": "3.9.12"
  }
 },
 "nbformat": 4,
 "nbformat_minor": 5
}
