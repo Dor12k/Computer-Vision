{
 "cells": [
  {
   "cell_type": "code",
   "execution_count": 15,
   "id": "34cf30a6",
   "metadata": {},
   "outputs": [],
   "source": [
    "import cv2\n",
    "import numpy as np\n",
    "import imutils"
   ]
  },
  {
   "cell_type": "code",
   "execution_count": 16,
   "id": "1ca6a1f5",
   "metadata": {},
   "outputs": [],
   "source": [
    "TrDict = {'csrt': cv2.legacy.TrackerCSRT_create,\n",
    "         'kcf' : cv2.TrackerKCF_create,\n",
    "         'boosting' : cv2.legacy.TrackerMOSSE_create(),\n",
    "         'mil': cv2.TrackerMIL_create,\n",
    "         'tld': cv2.legacy.TrackerTLD_create(),\n",
    "         'medianflow': cv2.legacy.TrackerMedianFlow_create(),\n",
    "         'mosse':cv2.legacy.TrackerMOSSE_create}"
   ]
  },
  {
   "cell_type": "code",
   "execution_count": 17,
   "id": "f27eaefb",
   "metadata": {},
   "outputs": [],
   "source": [
    "trackers = cv2.legacy.MultiTracker_create()"
   ]
  },
  {
   "cell_type": "code",
   "execution_count": 18,
   "id": "1e0ca567",
   "metadata": {},
   "outputs": [],
   "source": [
    "#v = cv2.VideoCapture(r'C:\\Users') # add file(video) location "
   ]
  },
  {
   "cell_type": "code",
   "execution_count": 19,
   "id": "f9cfb442",
   "metadata": {},
   "outputs": [],
   "source": [
    "ret, frame = v.read()\n",
    "frame = cv2.flip(frame, 0)\n",
    "frame = cv2.flip(frame, 1)"
   ]
  },
  {
   "cell_type": "code",
   "execution_count": 20,
   "id": "90f6508c",
   "metadata": {
    "scrolled": true
   },
   "outputs": [],
   "source": [
    "k = 4\n",
    "for i in range(k):\n",
    "    frame = imutils.resize(frame,width=800)\n",
    "    cv2.imshow('Frame',frame)\n",
    "    bbi = cv2.selectROI('Frame',frame)\n",
    "    # tracker_i = cv2.legacy.TrackerCSRT_create()\n",
    "    tracker_i = TrDict['csrt']()\n",
    "    trackers.add(tracker_i,frame,bbi)"
   ]
  },
  {
   "cell_type": "code",
   "execution_count": 21,
   "id": "2b15eef6",
   "metadata": {},
   "outputs": [],
   "source": [
    "while True:\n",
    "    ret, frame = v.read()\n",
    "    frame = cv2.flip(frame, 0)\n",
    "    frame = cv2.flip(frame, 1)\n",
    "    if not ret:\n",
    "        break\n",
    "    frame = imutils.resize(frame, width=800)\n",
    "    (success, boxes) = trackers.update(frame)\n",
    "    rec = 0\n",
    "    for box in boxes:\n",
    "        (x,y,w,h) = [int(a) for a in box]\n",
    "        \n",
    "        if rec < 3:\n",
    "            cv2.rectangle(frame,(x,y),(x+w,y+h),(200,0,200),2)\n",
    "        else:\n",
    "            cv2.rectangle(frame,(x,y),(x+w,y+h),(0,205,0),2)\n",
    "        rec = rec +1\n",
    "        \n",
    "    cv2.imshow('Frame',frame)\n",
    "    key = cv2.waitKey(5) & 0xFF\n",
    "    if key == ord('q'):\n",
    "        break\n",
    "    \n",
    "v.release()\n",
    "cv2.destroyAllWindows()"
   ]
  }
 ],
 "metadata": {
  "kernelspec": {
   "display_name": "Python 3 (ipykernel)",
   "language": "python",
   "name": "python3"
  },
  "language_info": {
   "codemirror_mode": {
    "name": "ipython",
    "version": 3
   },
   "file_extension": ".py",
   "mimetype": "text/x-python",
   "name": "python",
   "nbconvert_exporter": "python",
   "pygments_lexer": "ipython3",
   "version": "3.9.12"
  }
 },
 "nbformat": 4,
 "nbformat_minor": 5
}
