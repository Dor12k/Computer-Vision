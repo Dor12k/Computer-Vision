{
 "cells": [
  {
   "cell_type": "markdown",
   "id": "b09f4b79",
   "metadata": {},
   "source": [
    "# Multy Object Tracking"
   ]
  },
  {
   "cell_type": "markdown",
   "id": "cc5bf050",
   "metadata": {},
   "source": [
    "## 1. Import our libraries and path"
   ]
  },
  {
   "cell_type": "code",
   "execution_count": 7,
   "id": "f0de7164",
   "metadata": {},
   "outputs": [],
   "source": [
    "import cv2\n",
    "import imutils\n",
    "import numpy as np"
   ]
  },
  {
   "cell_type": "code",
   "execution_count": 8,
   "id": "4f14498d",
   "metadata": {},
   "outputs": [],
   "source": [
    "# This path is for loading video to object tracking\n",
    "#video = cv2.VideoCapture(r'C:\\Users') # add file(video) location \n",
    "\n",
    "video = cv2.VideoCapture(r'C:\\Users\\Admin\\Downloads\\Udemy\\UdemyCv\\Data\\Videos\\cv1.MOV') # add file(video) location "
   ]
  },
  {
   "cell_type": "markdown",
   "id": "c9df1301",
   "metadata": {},
   "source": [
    "## 2. Select object to track from a frame"
   ]
  },
  {
   "cell_type": "code",
   "execution_count": 9,
   "id": "8e771e0e",
   "metadata": {},
   "outputs": [],
   "source": [
    "# Define tracker dictionary\n",
    "tracker_dict = { 'csrt': cv2.legacy.TrackerCSRT_create,\n",
    "                 'kcf' : cv2.TrackerKCF_create,\n",
    "                 'boosting' : cv2.legacy.TrackerMOSSE_create(),\n",
    "                 'mil': cv2.TrackerMIL_create,\n",
    "                 'tld': cv2.legacy.TrackerTLD_create(),\n",
    "                 'medianflow': cv2.legacy.TrackerMedianFlow_create(),\n",
    "                 'mosse':cv2.legacy.TrackerMOSSE_create}\n"
   ]
  },
  {
   "cell_type": "code",
   "execution_count": 11,
   "id": "86af9ff9",
   "metadata": {},
   "outputs": [],
   "source": [
    "# Get the first frame from our video and select objects to track\n",
    "ret, frame = video.read()\n",
    "frame = cv2.flip(frame, 0)\n",
    "frame = cv2.flip(frame, 1)\n",
    "\n",
    "\n",
    "# Initialize our trackers\n",
    "num_of_trackers = 3\n",
    "trackers = cv2.legacy.MultiTracker_create()\n",
    "\n",
    "for i in range(num_of_trackers):\n",
    "    \n",
    "    frame = imutils.resize(frame, width=800)   \n",
    "    cv2.imshow('Frame', frame)\n",
    "\n",
    "    # Create a bounding box around the object we want to track\n",
    "    bounding_box = cv2.selectROI('Frame', frame)\n",
    "    \n",
    "    tracker_i = tracker_dict['csrt']()\n",
    "    trackers.add(tracker_i,frame,bounding_box)"
   ]
  },
  {
   "cell_type": "markdown",
   "id": "196f5965",
   "metadata": {},
   "source": [
    "## 3. Implement the tracking"
   ]
  },
  {
   "cell_type": "code",
   "execution_count": 12,
   "id": "60da31fe",
   "metadata": {},
   "outputs": [],
   "source": [
    "# The next code use to implement the tracking\n",
    "\n",
    "while True:\n",
    "    num_of_object = 0\n",
    "    \n",
    "    # Capture a frame from the video\n",
    "    ret, frame = video.read()\n",
    "    if not ret:\n",
    "        break\n",
    "    \n",
    "    # Reshape frame to the right shape\n",
    "    frame = cv2.flip(frame, 0)\n",
    "    frame = cv2.flip(frame, 1)\n",
    "    frame = imutils.resize(frame, width=800)\n",
    "    \n",
    "    # Get the bounding box from the frame\n",
    "    (success, boxes) = trackers.update(frame)\n",
    "    for box in boxes:\n",
    "        (x,y,w,h) = [int(a) for a in box]\n",
    "        \n",
    "        if num_of_object < num_of_trackers -1:\n",
    "            cv2.rectangle(frame, (x,y), (x+w,y+h), (250,0,250), 2)\n",
    "        else:\n",
    "            cv2.rectangle(frame, (x,y), (x+w,y+h), (0,250,0), 2)\n",
    "        \n",
    "        num_of_object = num_of_object +1\n",
    "    \n",
    "    # Plot frame\n",
    "    cv2.imshow('Frame', frame)\n",
    "    \n",
    "    # Key to stop the video\n",
    "    key = cv2.waitKey(5) & 0xFF\n",
    "    if key == ord('q'):\n",
    "        break\n",
    "        \n",
    "video.release()\n",
    "cv2.destroyAllWindows()"
   ]
  },
  {
   "cell_type": "code",
   "execution_count": null,
   "id": "1e762a10",
   "metadata": {},
   "outputs": [],
   "source": []
  }
 ],
 "metadata": {
  "kernelspec": {
   "display_name": "Python 3 (ipykernel)",
   "language": "python",
   "name": "python3"
  },
  "language_info": {
   "codemirror_mode": {
    "name": "ipython",
    "version": 3
   },
   "file_extension": ".py",
   "mimetype": "text/x-python",
   "name": "python",
   "nbconvert_exporter": "python",
   "pygments_lexer": "ipython3",
   "version": "3.9.12"
  }
 },
 "nbformat": 4,
 "nbformat_minor": 5
}
