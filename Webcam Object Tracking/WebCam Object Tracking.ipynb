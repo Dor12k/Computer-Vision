{
 "cells": [
  {
   "cell_type": "code",
   "execution_count": 39,
   "id": "726dd4a7",
   "metadata": {},
   "outputs": [],
   "source": [
    "import cv2\n",
    "import imutils"
   ]
  },
  {
   "cell_type": "code",
   "execution_count": 40,
   "id": "c1bc4019",
   "metadata": {},
   "outputs": [],
   "source": [
    "TrDict = {'csrt': cv2.TrackerCSRT_create,\n",
    "         'kcf' : cv2.TrackerKCF_create,\n",
    "         'boosting' : cv2.legacy.TrackerMOSSE_create(),\n",
    "         'mil': cv2.TrackerMIL_create,\n",
    "         'tld': cv2.legacy.TrackerTLD_create(),\n",
    "         'medianflow': cv2.legacy.TrackerMedianFlow_create(),\n",
    "         'mosse':cv2.legacy.TrackerMOSSE_create()}"
   ]
  },
  {
   "cell_type": "code",
   "execution_count": 41,
   "id": "f7a14190",
   "metadata": {},
   "outputs": [],
   "source": [
    "tracker = TrDict['csrt']()"
   ]
  },
  {
   "cell_type": "code",
   "execution_count": 42,
   "id": "57a128c7",
   "metadata": {},
   "outputs": [],
   "source": [
    "cap = cv2.VideoCapture(1) # The device number might be 0 or 1 depending on the device and the webcam"
   ]
  },
  {
   "cell_type": "code",
   "execution_count": 43,
   "id": "dcad2955",
   "metadata": {},
   "outputs": [],
   "source": [
    "# choose object to tracking and press enter\n",
    "cap.open(0, cv2.CAP_DSHOW)\n",
    "ret, frame = cap.read()\n",
    "frame = cv2.resize(frame,dsize=(800,500))\n",
    "cv2.imshow('Frame',frame)\n",
    "bb = cv2.selectROI('Frame',frame)\n",
    "tracker.init(frame,bb)"
   ]
  },
  {
   "cell_type": "code",
   "execution_count": 44,
   "id": "43616edc",
   "metadata": {},
   "outputs": [],
   "source": [
    "while True:\n",
    "    ret, frame = cap.read()\n",
    "    if not ret:\n",
    "        break\n",
    "    frame = imutils.resize(frame,width=800)\n",
    "    (success,box) = tracker.update(frame)\n",
    "    if success:\n",
    "        (x,y,w,h) = [int(a) for a in box]\n",
    "        cv2.rectangle(frame,(x,y),(x+w,y+h),(100,255,0),2)\n",
    "    cv2.imshow('Frame',frame)\n",
    "    key = cv2.waitKey(5) & 0xFF\n",
    "    if key == ord('q'):\n",
    "        break\n",
    "cap.release()\n",
    "cv2.destroyAllWindows()"
   ]
  },
  {
   "cell_type": "code",
   "execution_count": null,
   "id": "780ccad9",
   "metadata": {},
   "outputs": [],
   "source": []
  }
 ],
 "metadata": {
  "kernelspec": {
   "display_name": "Python 3 (ipykernel)",
   "language": "python",
   "name": "python3"
  },
  "language_info": {
   "codemirror_mode": {
    "name": "ipython",
    "version": 3
   },
   "file_extension": ".py",
   "mimetype": "text/x-python",
   "name": "python",
   "nbconvert_exporter": "python",
   "pygments_lexer": "ipython3",
   "version": "3.9.12"
  }
 },
 "nbformat": 4,
 "nbformat_minor": 5
}
