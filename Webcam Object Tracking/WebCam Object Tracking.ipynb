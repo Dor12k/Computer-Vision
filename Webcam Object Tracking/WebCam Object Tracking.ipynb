{
 "cells": [
  {
   "cell_type": "markdown",
   "id": "939ecd7d",
   "metadata": {},
   "source": [
    "# Webcam Object Tracking"
   ]
  },
  {
   "cell_type": "markdown",
   "id": "a21f4b43",
   "metadata": {},
   "source": [
    "## 1. Import our libraries and path"
   ]
  },
  {
   "cell_type": "code",
   "execution_count": 7,
   "id": "f5cae1c5",
   "metadata": {},
   "outputs": [],
   "source": [
    "import cv2\n",
    "import imutils"
   ]
  },
  {
   "cell_type": "code",
   "execution_count": 8,
   "id": "d3f7fc2c",
   "metadata": {},
   "outputs": [],
   "source": [
    "# This path is for loading video to object tracking\n",
    "\n",
    "cap = cv2.VideoCapture(1) # The device number might be 0 or 1 depending on the device and the webcam"
   ]
  },
  {
   "cell_type": "markdown",
   "id": "3634271e",
   "metadata": {},
   "source": [
    "## 2. Select object to track from a frame"
   ]
  },
  {
   "cell_type": "code",
   "execution_count": 9,
   "id": "7e06e8f0",
   "metadata": {},
   "outputs": [],
   "source": [
    "# Define tracker dictionary\n",
    "tracker_dict = { 'csrt': cv2.legacy.TrackerCSRT_create,\n",
    "                 'kcf' : cv2.TrackerKCF_create,\n",
    "                 'boosting' : cv2.legacy.TrackerMOSSE_create(),\n",
    "                 'mil': cv2.TrackerMIL_create,\n",
    "                 'tld': cv2.legacy.TrackerTLD_create(),\n",
    "                 'medianflow': cv2.legacy.TrackerMedianFlow_create(),\n",
    "                 'mosse':cv2.legacy.TrackerMOSSE_create}\n"
   ]
  },
  {
   "cell_type": "code",
   "execution_count": 10,
   "id": "8611b8db",
   "metadata": {},
   "outputs": [
    {
     "data": {
      "text/plain": [
       "True"
      ]
     },
     "execution_count": 10,
     "metadata": {},
     "output_type": "execute_result"
    }
   ],
   "source": [
    "# Get the first frame from our camera and select objects to track\n",
    "\n",
    "# choose object to tracking and press enter\n",
    "cap.open(0, cv2.CAP_DSHOW)\n",
    "\n",
    "ret, frame = cap.read()\n",
    "frame = imutils.resize(frame, width=800)\n",
    "\n",
    "cv2.imshow('Frame',frame)\n",
    "\n",
    "# Create a bounding box around the object we want to track\n",
    "bounding_box = cv2.selectROI('Frame', frame)\n",
    "\n",
    "\n",
    "# Initialize our tracker after the object\n",
    "tracker = tracker_dict['csrt']()\n",
    "tracker.init(frame, bounding_box)"
   ]
  },
  {
   "cell_type": "markdown",
   "id": "c904667d",
   "metadata": {},
   "source": [
    "## 3. Implement the tracking"
   ]
  },
  {
   "cell_type": "code",
   "execution_count": 11,
   "id": "c43f8816",
   "metadata": {},
   "outputs": [],
   "source": [
    "# The next code use to implement the tracking\n",
    "\n",
    "while True:\n",
    "    \n",
    "    ret, frame = cap.read()\n",
    "    if not ret:\n",
    "        break\n",
    "        \n",
    "    # Reshape frame to the right shape\n",
    "    frame = imutils.resize(frame, width=800)\n",
    "    \n",
    "    # Get the bounding box from the frame\n",
    "    (success, box) = tracker.update(frame)\n",
    "    if success:\n",
    "        (x,y,w,h) = [int(a) for a in box]\n",
    "        cv2.rectangle(frame, (x,y), (x+w,y+h), (100,255,0), 2)\n",
    "    \n",
    "    # Plot frame\n",
    "    cv2.imshow('Frame', frame)\n",
    "    \n",
    "    # Key to stop the video\n",
    "    key = cv2.waitKey(5) & 0xFF\n",
    "    if key == ord('q'):\n",
    "        break\n",
    "        \n",
    "cap.release()\n",
    "cv2.destroyAllWindows()"
   ]
  },
  {
   "cell_type": "code",
   "execution_count": null,
   "id": "474bb6c7",
   "metadata": {},
   "outputs": [],
   "source": []
  }
 ],
 "metadata": {
  "kernelspec": {
   "display_name": "Python 3 (ipykernel)",
   "language": "python",
   "name": "python3"
  },
  "language_info": {
   "codemirror_mode": {
    "name": "ipython",
    "version": 3
   },
   "file_extension": ".py",
   "mimetype": "text/x-python",
   "name": "python",
   "nbconvert_exporter": "python",
   "pygments_lexer": "ipython3",
   "version": "3.9.12"
  }
 },
 "nbformat": 4,
 "nbformat_minor": 5
}
