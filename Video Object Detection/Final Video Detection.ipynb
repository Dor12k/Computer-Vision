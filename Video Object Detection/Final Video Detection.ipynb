{
 "cells": [
  {
   "cell_type": "code",
   "execution_count": 1,
   "id": "4807a8f1",
   "metadata": {},
   "outputs": [],
   "source": [
    "import os\n",
    "import cv2\n",
    "import imutils\n",
    "import numpy as np\n",
    "import cvlib as cv\n",
    "import matplotlib.pyplot as plt\n",
    "from cvlib.object_detection import draw_bbox"
   ]
  },
  {
   "cell_type": "code",
   "execution_count": 2,
   "id": "96b8a299",
   "metadata": {},
   "outputs": [],
   "source": [
    "# This fuction remove the components that are smaller than praticular threshold\n",
    "def f_keepLargeComponents(I,th):\n",
    "    R = np.zeros(I.shape) < 0\n",
    "    unique_labels = np.unique(I.flatten())\n",
    "    for label in unique_labels:\n",
    "        if label == 0:\n",
    "            pass\n",
    "        else:\n",
    "            I2 = I==label\n",
    "            if np.sum(I2)>th:\n",
    "                R = R | I2\n",
    "    return np.float32(255*R)"
   ]
  },
  {
   "cell_type": "code",
   "execution_count": 3,
   "id": "8749eb76",
   "metadata": {},
   "outputs": [],
   "source": [
    "def f_saveSeq(C,counter,th,outPutPath):\n",
    "    if len(C)<th:\n",
    "        pass\n",
    "    else:\n",
    "        k = 1\n",
    "        for frame in C:\n",
    "            imName = str(counter)+'_'+ str(k)+'.jpg'\n",
    "            finalPath = os.path.join(outPutPath,imName)\n",
    "            bbox,labels,conf = cv.detect_common_objects(frame)\n",
    "            frame = draw_bbox(frame,bbox,labels,conf)\n",
    "            cv2.imwrite(finalPath,frame)\n",
    "            k += 1"
   ]
  },
  {
   "cell_type": "code",
   "execution_count": 4,
   "id": "1ba3ac32",
   "metadata": {},
   "outputs": [],
   "source": [
    "def f_displaySeq(outPutPath):\n",
    "    for imName in os.listdir(outPutPath):\n",
    "        frame = cv2.imread(os.path.join(outPutPath,imName))\n",
    "        frame = cv2.resize(frame,dsize=(600,400))\n",
    "        cv2.imshow('Display',frame)\n",
    "        k = cv2.waitKey(30) & 0xff\n",
    "        if k == 27:\n",
    "            break\n",
    "    cv2.destroyAllWindows()"
   ]
  },
  {
   "cell_type": "code",
   "execution_count": 5,
   "id": "a3e32d0e",
   "metadata": {},
   "outputs": [],
   "source": [
    "vidPath = (r'C:\\Users') # add file(video) location "
   ]
  },
  {
   "cell_type": "code",
   "execution_count": 30,
   "id": "313cb6b5",
   "metadata": {},
   "outputs": [],
   "source": [
    "fgModel = cv2.createBackgroundSubtractorMOG2()\n",
    "leastNumOfFrames = 5\n",
    "idx = []\n",
    "C = []\n",
    "counter = 0\n",
    "outPutPath = (r'C:\\Users') # add folder location to save \n",
    "cap = cv2.VideoCapture(vidPath)\n",
    "\n",
    "while True:\n",
    "    ret, frame = cap.read()\n",
    "    if not ret:\n",
    "        break\n",
    "        \n",
    "    counter += 1\n",
    "    frame = cv2.resize(frame,dsize=(500,300))\n",
    "    fgmask = fgModel.apply(frame)\n",
    "    K_r = cv2.getStructuringElement(cv2.MORPH_RECT,(3,3))\n",
    "    fgmask = cv2.morphologyEx(np.float32(fgmask),cv2.MORPH_OPEN,K_r)\n",
    "    num_labels,labels_im = cv2.connectedComponents(np.array(fgmask>0,np.uint8))\n",
    "    fgmask = f_keepLargeComponents(labels_im,1000)\n",
    "    if 0 < np.sum(fgmask):\n",
    "        idx.append(counter)\n",
    "        C.append(frame)\n",
    "    if len(idx) >= 2 and idx[-1] > idx[-2]+1:\n",
    "        f_saveSeq(C,counter,leastNumOfFrames,outPutPath)\n",
    "        idx = []\n",
    "        C = []\n",
    "        \n",
    "    F = np.zeros(frame.shape,np.uint8)\n",
    "    F[:,:,0],F[:,:,1],F[:,:,2] = fgmask, fgmask,fgmask\n",
    "    F2 = np.hstack((frame,F))\n",
    "    cv2.imshow('frame',F2)\n",
    "    k = cv2.waitKey(5) & 0xff\n",
    "    if k == 27:\n",
    "        break\n",
    "\n",
    "f_saveSeq(C,counter,leastNumOfFrames,outPutPath)\n",
    "cap.release()\n",
    "cv2.destroyAllWindows()"
   ]
  },
  {
   "cell_type": "markdown",
   "id": "a8b43b46",
   "metadata": {},
   "source": [
    "# Show the detection"
   ]
  },
  {
   "cell_type": "code",
   "execution_count": 23,
   "id": "b9e05f10",
   "metadata": {},
   "outputs": [],
   "source": [
    "imPath = (r'C:\\Users') # add file(video) location "
   ]
  },
  {
   "cell_type": "code",
   "execution_count": 24,
   "id": "8aaebc55",
   "metadata": {},
   "outputs": [],
   "source": [
    "for imName in os.listdir(imPath):\n",
    "    frame = cv2.imread(os.path.join(imPath,imName))\n",
    "    frame = cv2.resize(frame,dsize=(600,400))\n",
    "    cv2.imshow('Display',frame)\n",
    "    \n",
    "    k = cv2.waitKey(30) & 0xff\n",
    "    if k == 27:\n",
    "        break\n",
    "\n",
    "cv2.destroyAllWindows()"
   ]
  }
 ],
 "metadata": {
  "kernelspec": {
   "display_name": "Python 3 (ipykernel)",
   "language": "python",
   "name": "python3"
  },
  "language_info": {
   "codemirror_mode": {
    "name": "ipython",
    "version": 3
   },
   "file_extension": ".py",
   "mimetype": "text/x-python",
   "name": "python",
   "nbconvert_exporter": "python",
   "pygments_lexer": "ipython3",
   "version": "3.9.12"
  }
 },
 "nbformat": 4,
 "nbformat_minor": 5
}
