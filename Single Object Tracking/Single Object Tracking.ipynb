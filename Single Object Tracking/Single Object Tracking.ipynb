{
 "cells": [
  {
   "cell_type": "markdown",
   "id": "d090bc0a",
   "metadata": {},
   "source": [
    "# Single Object Tracking"
   ]
  },
  {
   "cell_type": "markdown",
   "id": "7e59812e",
   "metadata": {},
   "source": [
    "## 1. Import our libraries and path"
   ]
  },
  {
   "cell_type": "code",
   "execution_count": 1,
   "id": "fa1f20a1",
   "metadata": {},
   "outputs": [],
   "source": [
    "import cv2\n",
    "import imutils"
   ]
  },
  {
   "cell_type": "code",
   "execution_count": 2,
   "id": "cf4f0ec3",
   "metadata": {},
   "outputs": [],
   "source": [
    "# This path is for loading video to object tracking\n",
    "#video = cv2.VideoCapture(r'C:\\Users') # add file(video) location \n",
    "\n",
    "video = cv2.VideoCapture(r'C:\\Users\\Admin\\Downloads\\Udemy\\UdemyCv\\Data\\Videos\\cv1.MOV') # add file(video) location "
   ]
  },
  {
   "cell_type": "markdown",
   "id": "a8b212f2",
   "metadata": {},
   "source": [
    "## 2. Select object to track from a frame"
   ]
  },
  {
   "cell_type": "code",
   "execution_count": 3,
   "id": "beecd010",
   "metadata": {},
   "outputs": [],
   "source": [
    "# Get the first frame from our video and select single object to track\n",
    "ret, frame = video.read()\n",
    "\n",
    "frame = cv2.flip(frame, 0)\n",
    "frame = cv2.flip(frame, 1)\n",
    "frame = imutils.resize(frame, width=1000)\n",
    "\n",
    "cv2.imshow('Frame',frame)\n",
    "\n",
    "# Create a bounding box around the object we want to track\n",
    "bounding_box = cv2.selectROI('Frame', frame)"
   ]
  },
  {
   "cell_type": "code",
   "execution_count": 4,
   "id": "09f93a08",
   "metadata": {},
   "outputs": [],
   "source": [
    "# Define tracker dictionary\n",
    "tracker_dict = { 'csrt': cv2.TrackerCSRT_create,\n",
    "                 'kcf' : cv2.TrackerKCF_create,\n",
    "                 'boosting' : cv2.legacy.TrackerMOSSE_create(),\n",
    "                 'mil': cv2.TrackerMIL_create,\n",
    "                 'tld': cv2.legacy.TrackerTLD_create(),\n",
    "                 'medianflow': cv2.legacy.TrackerMedianFlow_create(),\n",
    "                 'mosse':cv2.legacy.TrackerMOSSE_create()}\n",
    "\n",
    "\n",
    "# Initialize our tracker after the object\n",
    "tracker = tracker_dict['csrt']()\n",
    "tracker.init(frame, bounding_box)"
   ]
  },
  {
   "cell_type": "markdown",
   "id": "a5efb004",
   "metadata": {},
   "source": [
    "## 3. Implement the tracking"
   ]
  },
  {
   "cell_type": "code",
   "execution_count": 5,
   "id": "18ce8a38",
   "metadata": {},
   "outputs": [],
   "source": [
    "# The next code use to implement the tracking\n",
    "while True:\n",
    "    \n",
    "    # Capture a frame from the video\n",
    "    ret, frame = video.read()\n",
    "    if not ret:\n",
    "        break\n",
    "    \n",
    "    # Reshape frame to the right shape\n",
    "    frame = cv2.flip(frame, 0)\n",
    "    frame = cv2.flip(frame, 1)\n",
    "    frame = imutils.resize(frame, width=1000)\n",
    "    \n",
    "    # Get the bounding box from the frame\n",
    "    (success, box) = tracker.update(frame)\n",
    "    if success:\n",
    "        (x, y, w, h) = [int(a) for a in box]\n",
    "        cv2.rectangle(frame, (x,y), (x+w,y+h), (100,255,0), 2)\n",
    "    \n",
    "    # Plot frame\n",
    "    cv2.imshow('Frame', frame)\n",
    "    \n",
    "    # Key to stop the video\n",
    "    key = cv2.waitKey(5) & 0xFF\n",
    "    if key == ord('q'):\n",
    "        break\n",
    "        \n",
    "video.release()\n",
    "cv2.destroyAllWindows()"
   ]
  }
 ],
 "metadata": {
  "kernelspec": {
   "display_name": "Python 3 (ipykernel)",
   "language": "python",
   "name": "python3"
  },
  "language_info": {
   "codemirror_mode": {
    "name": "ipython",
    "version": 3
   },
   "file_extension": ".py",
   "mimetype": "text/x-python",
   "name": "python",
   "nbconvert_exporter": "python",
   "pygments_lexer": "ipython3",
   "version": "3.9.12"
  }
 },
 "nbformat": 4,
 "nbformat_minor": 5
}
