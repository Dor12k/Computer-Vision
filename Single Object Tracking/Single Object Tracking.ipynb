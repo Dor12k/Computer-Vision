{
 "cells": [
  {
   "cell_type": "code",
   "execution_count": 1,
   "id": "890ea379",
   "metadata": {},
   "outputs": [],
   "source": [
    "import cv2\n",
    "import imutils"
   ]
  },
  {
   "cell_type": "code",
   "execution_count": 2,
   "id": "22a93a40",
   "metadata": {},
   "outputs": [],
   "source": [
    "TrDict = {'csrt': cv2.TrackerCSRT_create,\n",
    "         'kcf' : cv2.TrackerKCF_create,\n",
    "         'boosting' : cv2.legacy.TrackerMOSSE_create(),\n",
    "         'mil': cv2.TrackerMIL_create,\n",
    "         'tld': cv2.legacy.TrackerTLD_create(),\n",
    "         'medianflow': cv2.legacy.TrackerMedianFlow_create(),\n",
    "         'mosse':cv2.legacy.TrackerMOSSE_create()}"
   ]
  },
  {
   "cell_type": "code",
   "execution_count": 3,
   "id": "26088425",
   "metadata": {},
   "outputs": [],
   "source": [
    "tracker = TrDict['csrt']()\n",
    "#tracker = cv2.TrackerCSRT_create()"
   ]
  },
  {
   "cell_type": "code",
   "execution_count": 4,
   "id": "68fbf9c8",
   "metadata": {},
   "outputs": [],
   "source": [
    "v = cv2.VideoCapture(r'C:\\Users') # add file(video) location \n",
    "#v = cv2.VideoCapture(0) # camra"
   ]
  },
  {
   "cell_type": "code",
   "execution_count": 5,
   "id": "d6865f1f",
   "metadata": {},
   "outputs": [],
   "source": [
    "ret, frame = v.read()\n",
    "frame = cv2.flip(frame, 0)\n",
    "frame = cv2.flip(frame, 1)\n",
    "frame = imutils.resize(frame,width=1000)\n",
    "cv2.imshow('Frame',frame)\n",
    "bb = cv2.selectROI('Frame',frame)\n",
    "tracker.init(frame,bb)"
   ]
  },
  {
   "cell_type": "code",
   "execution_count": 6,
   "id": "c6223cb2",
   "metadata": {},
   "outputs": [],
   "source": [
    "while True:\n",
    "    ret, frame = v.read()\n",
    "    frame = cv2.flip(frame, 0)\n",
    "    frame = cv2.flip(frame, 1)\n",
    "    if not ret:\n",
    "        break\n",
    "    frame = imutils.resize(frame,width=1000)\n",
    "    (success,box) = tracker.update(frame)\n",
    "    if success:\n",
    "        (x,y,w,h) = [int(a) for a in box]\n",
    "        cv2.rectangle(frame,(x,y),(x+w,y+h),(100,255,0),2)\n",
    "    cv2.imshow('Frame',frame)\n",
    "    key = cv2.waitKey(5) & 0xFF\n",
    "    if key == ord('q'):\n",
    "        break\n",
    "v.release()\n",
    "cv2.destroyAllWindows()"
   ]
  },
  {
   "cell_type": "code",
   "execution_count": null,
   "id": "6ea6e71c",
   "metadata": {},
   "outputs": [],
   "source": []
  }
 ],
 "metadata": {
  "kernelspec": {
   "display_name": "Python 3 (ipykernel)",
   "language": "python",
   "name": "python3"
  },
  "language_info": {
   "codemirror_mode": {
    "name": "ipython",
    "version": 3
   },
   "file_extension": ".py",
   "mimetype": "text/x-python",
   "name": "python",
   "nbconvert_exporter": "python",
   "pygments_lexer": "ipython3",
   "version": "3.9.12"
  }
 },
 "nbformat": 4,
 "nbformat_minor": 5
}
